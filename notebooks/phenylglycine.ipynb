{
 "cells": [
  {
   "cell_type": "code",
   "execution_count": null,
   "id": "11b18c3b",
   "metadata": {},
   "outputs": [
    {
     "ename": "TypeError",
     "evalue": "make_Rw() missing 1 required positional argument: 'moldenTemplate'",
     "output_type": "error",
     "traceback": [
      "\u001b[0;31m---------------------------------------------------------------------------\u001b[0m",
      "\u001b[0;31mTypeError\u001b[0m                                 Traceback (most recent call last)",
      "Cell \u001b[0;32mIn[1], line 16\u001b[0m\n\u001b[1;32m     13\u001b[0m magY \u001b[38;5;241m=\u001b[39m np\u001b[38;5;241m.\u001b[39mloadtxt(\u001b[38;5;124m\"\u001b[39m\u001b[38;5;124mexamples/phenylglycine_hydroxyl_oxygen_K_edge_2nd/mag_y.data\u001b[39m\u001b[38;5;124m\"\u001b[39m, usecols\u001b[38;5;241m=\u001b[39m\u001b[38;5;241m1\u001b[39m)\n\u001b[1;32m     14\u001b[0m magZ \u001b[38;5;241m=\u001b[39m np\u001b[38;5;241m.\u001b[39mloadtxt(\u001b[38;5;124m\"\u001b[39m\u001b[38;5;124mexamples/phenylglycine_hydroxyl_oxygen_K_edge_2nd/mag_z.data\u001b[39m\u001b[38;5;124m\"\u001b[39m, usecols\u001b[38;5;241m=\u001b[39m\u001b[38;5;241m1\u001b[39m)\n\u001b[0;32m---> 16\u001b[0m Rw \u001b[38;5;241m=\u001b[39m make_Rw(elecX, elecY, elecZ, magX, magY, magZ)\n\u001b[1;32m     17\u001b[0m moldenTemplate \u001b[38;5;241m=\u001b[39m \u001b[38;5;124m\"\u001b[39m\u001b[38;5;124mexamples/phenylglycine_hydroxyl_oxygen_K_edge_2nd/molden_template.molden\u001b[39m\u001b[38;5;124m\"\u001b[39m\n\u001b[1;32m     18\u001b[0m moldenOutput \u001b[38;5;241m=\u001b[39m \u001b[38;5;124m\"\u001b[39m\u001b[38;5;124mexamples/phenylglycine_hydroxyl_oxygen_K_edge_2nd/orb000001.molden\u001b[39m\u001b[38;5;124m\"\u001b[39m\n",
      "\u001b[0;31mTypeError\u001b[0m: make_Rw() missing 1 required positional argument: 'moldenTemplate'"
     ]
    }
   ],
   "source": [
    "# This cell produces the CPA.molden file for phenylglycine hydroxil oxygen K-edge 2nd transition\n",
    "\n",
    "import numpy as np\n",
    "import os\n",
    "os.chdir(\"/Users/victormanuelfreixaslemus/Desktop/Projects/Git_portafolio/CPA/Plotting_chiral_response\")\n",
    "from src.make_Rw import make_Rw\n",
    "from src.complete_molden import complete_molden\n",
    "\n",
    "elecX = np.loadtxt(\"examples/phenylglycine_hydroxyl_oxygen_K_edge_2nd/elec_x.data\", usecols=1)\n",
    "elecY = np.loadtxt(\"examples/phenylglycine_hydroxyl_oxygen_K_edge_2nd/elec_y.data\", usecols=1)\n",
    "elecZ = np.loadtxt(\"examples/phenylglycine_hydroxyl_oxygen_K_edge_2nd/elec_z.data\", usecols=1)\n",
    "magX = np.loadtxt(\"examples/phenylglycine_hydroxyl_oxygen_K_edge_2nd/mag_x.data\", usecols=1)\n",
    "magY = np.loadtxt(\"examples/phenylglycine_hydroxyl_oxygen_K_edge_2nd/mag_y.data\", usecols=1)\n",
    "magZ = np.loadtxt(\"examples/phenylglycine_hydroxyl_oxygen_K_edge_2nd/mag_z.data\", usecols=1)\n",
    "\n",
    "moldenTemplate = \"examples/phenylglycine_hydroxyl_oxygen_K_edge_2nd/molden_template.molden\"\n",
    "Rw = make_Rw(elecX, elecY, elecZ, magX, magY, magZ, moldenTemplate)\n",
    "moldenOutput = \"examples/phenylglycine_hydroxyl_oxygen_K_edge_2nd/orb000001.molden\"\n",
    "complete_molden(moldenTemplate, moldenOutput, Rw)"
   ]
  },
  {
   "cell_type": "code",
   "execution_count": null,
   "id": "69b888a8",
   "metadata": {},
   "outputs": [],
   "source": [
    "# This cell produces the CPA.cube file for phenylglycine hydroxil oxygen K-edge 2nd transition\n",
    "from src.make_cube import make_cube\n",
    "import os\n",
    "os.chdir(\"/Users/victormanuelfreixaslemus/Desktop/Projects/Git_portafolio/CPA/Plotting_chiral_response\")\n",
    "\n",
    "multiwfnExe = \"/Applications/Multiwfn_3.7_bin_Mac/Multiwfn\"\n",
    "dataFile = \"examples/phenylglycine_hydroxyl_oxygen_K_edge_2nd\"\n",
    "moldenFile = \"orb000001.molden\"\n",
    "make_cube(multiwfnExe, dataFile, moldenFile)\n",
    "\n"
   ]
  }
 ],
 "metadata": {
  "kernelspec": {
   "display_name": "base",
   "language": "python",
   "name": "python3"
  },
  "language_info": {
   "codemirror_mode": {
    "name": "ipython",
    "version": 3
   },
   "file_extension": ".py",
   "mimetype": "text/x-python",
   "name": "python",
   "nbconvert_exporter": "python",
   "pygments_lexer": "ipython3",
   "version": "3.11.3"
  }
 },
 "nbformat": 4,
 "nbformat_minor": 5
}
