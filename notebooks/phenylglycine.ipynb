{
 "cells": [
  {
   "cell_type": "code",
   "execution_count": 9,
   "id": "11b18c3b",
   "metadata": {},
   "outputs": [],
   "source": [
    "# This cell produces the CPA.molden file for phenylglycine hydroxil oxygen K-edge 2nd transition\n",
    "\n",
    "import numpy as np\n",
    "import os\n",
    "os.chdir(\"/Users/victormanuelfreixaslemus/Desktop/Projects/Git_portafolio/CPA/Plotting_chiral_response\")\n",
    "from src.make_Rw import make_Rw\n",
    "from src.complete_molden import complete_molden\n",
    "\n",
    "elecX = np.loadtxt(\"examples/phenylglycine_hydroxil_oxygen_K_edge_2nd/elec_x.data\", usecols=1)\n",
    "elecY = np.loadtxt(\"examples/phenylglycine_hydroxil_oxygen_K_edge_2nd/elec_y.data\", usecols=1)\n",
    "elecZ = np.loadtxt(\"examples/phenylglycine_hydroxil_oxygen_K_edge_2nd/elec_z.data\", usecols=1)\n",
    "magX = np.loadtxt(\"examples/phenylglycine_hydroxil_oxygen_K_edge_2nd/mag_x.data\", usecols=1)\n",
    "magY = np.loadtxt(\"examples/phenylglycine_hydroxil_oxygen_K_edge_2nd/mag_y.data\", usecols=1)\n",
    "magZ = np.loadtxt(\"examples/phenylglycine_hydroxil_oxygen_K_edge_2nd/mag_z.data\", usecols=1)\n",
    "\n",
    "Rw = make_Rw(elecX, elecY, elecZ, magX, magY, magZ)\n",
    "moldenTemplate = \"examples/phenylglycine_hydroxil_oxygen_K_edge_2nd/molden_template.molden\"\n",
    "moldenOutput = \"examples/phenylglycine_hydroxil_oxygen_K_edge_2nd/orb000001.molden\"\n",
    "complete_molden(moldenTemplate, moldenOutput, Rw)"
   ]
  },
  {
   "cell_type": "code",
   "execution_count": 10,
   "id": "69b888a8",
   "metadata": {},
   "outputs": [],
   "source": [
    "# This cell produces the CPA.cube file for phenylglycine hydroxil oxygen K-edge 2nd transition\n",
    "from src.make_cube import make_cube\n",
    "import os\n",
    "os.chdir(\"/Users/victormanuelfreixaslemus/Desktop/Projects/Git_portafolio/CPA/Plotting_chiral_response\")\n",
    "\n",
    "multiwfnExe = \"/Applications/Multiwfn_3.7_bin_Mac/Multiwfn\"\n",
    "dataFile = \"examples/phenylglycine_hydroxil_oxygen_K_edge_2nd\"\n",
    "moldenFile = \"orb000001.molden\"\n",
    "make_cube(multiwfnExe, dataFile, moldenFile)\n",
    "\n"
   ]
  }
 ],
 "metadata": {
  "kernelspec": {
   "display_name": ".venv",
   "language": "python",
   "name": "python3"
  },
  "language_info": {
   "codemirror_mode": {
    "name": "ipython",
    "version": 3
   },
   "file_extension": ".py",
   "mimetype": "text/x-python",
   "name": "python",
   "nbconvert_exporter": "python",
   "pygments_lexer": "ipython3",
   "version": "3.13.7"
  }
 },
 "nbformat": 4,
 "nbformat_minor": 5
}
